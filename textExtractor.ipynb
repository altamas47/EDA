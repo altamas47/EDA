{
  "nbformat": 4,
  "nbformat_minor": 0,
  "metadata": {
    "colab": {
      "provenance": [],
      "gpuType": "T4"
    },
    "kernelspec": {
      "name": "python3",
      "display_name": "Python 3"
    },
    "language_info": {
      "name": "python"
    },
    "accelerator": "GPU"
  },
  "cells": [
    {
      "cell_type": "code",
      "execution_count": 1,
      "metadata": {
        "id": "GvEyILSALfJg"
      },
      "outputs": [],
      "source": [
        "from IPython import display\n",
        "import os"
      ]
    },
    {
      "cell_type": "code",
      "source": [
        "!pip install git+https://github.com/facebookresearch/nougat\n",
        "display.clear_output()"
      ],
      "metadata": {
        "id": "05Iw9yBmLrEI"
      },
      "execution_count": 2,
      "outputs": []
    },
    {
      "cell_type": "code",
      "source": [
        "!nougat -h"
      ],
      "metadata": {
        "colab": {
          "base_uri": "https://localhost:8080/"
        },
        "id": "qbWGL_DELryI",
        "outputId": "934f9a9c-a29a-4009-ccee-5aa0b19660be"
      },
      "execution_count": 3,
      "outputs": [
        {
          "output_type": "stream",
          "name": "stdout",
          "text": [
            "2023-09-23 13:38:56.171021: W tensorflow/compiler/tf2tensorrt/utils/py_utils.cc:38] TF-TRT Warning: Could not find TensorRT\n",
            "usage: nougat\n",
            "       [-h]\n",
            "       [--batchsize BATCHSIZE]\n",
            "       [--checkpoint CHECKPOINT]\n",
            "       [--model MODEL]\n",
            "       [--out OUT]\n",
            "       [--recompute]\n",
            "       [--markdown]\n",
            "       [--no-skipping]\n",
            "       [--pages PAGES]\n",
            "       pdf\n",
            "       [pdf ...]\n",
            "\n",
            "positional arguments:\n",
            "  pdf\n",
            "    PDF(s) to\n",
            "    process.\n",
            "\n",
            "options:\n",
            "  -h, --help\n",
            "    show this\n",
            "    help\n",
            "    message and\n",
            "    exit\n",
            "  --batchsize BATCHSIZE, -b BATCHSIZE\n",
            "    Batch size\n",
            "    to use.\n",
            "  --checkpoint CHECKPOINT, -c CHECKPOINT\n",
            "    Path to\n",
            "    checkpoint\n",
            "    directory.\n",
            "  --model MODEL, -m MODEL\n",
            "    Model tag\n",
            "    to use.\n",
            "  --out OUT, -o OUT\n",
            "    Output\n",
            "    directory.\n",
            "  --recompute\n",
            "    Recompute\n",
            "    already\n",
            "    computed\n",
            "    PDF,\n",
            "    discarding\n",
            "    previous pr\n",
            "    edictions.\n",
            "  --markdown\n",
            "    Add postpro\n",
            "    cessing\n",
            "    step for\n",
            "    markdown co\n",
            "    mpatibility\n",
            "    .\n",
            "  --no-skipping\n",
            "    Don't apply\n",
            "    failure\n",
            "    detection\n",
            "    heuristic.\n",
            "  --pages PAGES, -p PAGES\n",
            "    Provide\n",
            "    page\n",
            "    numbers\n",
            "    like\n",
            "    '1-4,7' for\n",
            "    pages 1\n",
            "    through 4\n",
            "    and page 7.\n",
            "    Only works\n",
            "    for single\n",
            "    PDF input.\n"
          ]
        }
      ]
    },
    {
      "cell_type": "code",
      "source": [
        "nougat_cmd = \"nougat --markdown --out 'batch_directory'\"\n",
        "pdf_path = '/content/drive/MyDrive/paper'\n",
        "\n",
        "for pdf in os.listdir(pdf_path):\n",
        "  os.system(f\"{nougat_cmd} pdf /content/drive/MyDrive/paper/{pdf}\")\n",
        ""
      ],
      "metadata": {
        "id": "2JRrhOPcOV9T"
      },
      "execution_count": 4,
      "outputs": []
    },
    {
      "cell_type": "code",
      "source": [
        "def merge_mmd_files(input_files, output_file):\n",
        "    # Initialize an empty string to store the combined content\n",
        "    combined_content = \"\"\n",
        "\n",
        "    try:\n",
        "        # Read the content of each input .mmd file and append it to the combined_content\n",
        "        for input_file in input_files:\n",
        "            with open(input_file, \"r\", encoding=\"utf-8\") as file:\n",
        "                file_content = file.read()\n",
        "                combined_content += file_content\n",
        "\n",
        "        # Write the combined content to the output .mmd file\n",
        "        with open(output_file, \"w\", encoding=\"utf-8\") as output:\n",
        "            output.write(combined_content)\n",
        "\n",
        "        print(f\"Merged {len(input_files)} .mmd files into {output_file}\")\n",
        "    except Exception as e:\n",
        "        print(f\"An error occurred: {str(e)}\")\n",
        "\n",
        "if __name__ == \"__main__\":\n",
        "    # List of input .mmd files to merge\n",
        "    input_files = [\"/content/batch_directory/paper1.mmd\", \"/content/batch_directory/paper2.mmd\", \"/content/batch_directory/paper3.mmd\", \"/content/batch_directory/paper4.mmd\", \"/content/batch_directory/paper5.mmd\", \"/content/batch_directory/paper6.mmd\", \"/content/batch_directory/paper7.mmd\", \"/content/batch_directory/paper8.mmd\", \"/content/batch_directory/paper9.mmd\", \"/content/batch_directory/paper10.mmd\", \"/content/batch_directory/paper11.mmd\", \"/content/batch_directory/paper12.mmd\", \"/content/batch_directory/paper13.mmd\", \"/content/batch_directory/paper14.mmd\", \"/content/batch_directory/paper15.mmd\", \"/content/batch_directory/paper17.mmd\", \"/content/batch_directory/paper18.mmd\", \"/content/batch_directory/paper19.mmd\", \"/content/batch_directory/paper20.mmd\", \"/content/batch_directory/paper21.mmd\", \"/content/batch_directory/paper22.mmd\", \"/content/batch_directory/paper23.mmd\", \"/content/batch_directory/paper24.mmd\",]\n",
        "\n",
        "    # Output .mmd file where the merged content will be saved\n",
        "    output_file = \"merged.mmd\"\n",
        "\n",
        "    merge_mmd_files(input_files, output_file)\n"
      ],
      "metadata": {
        "colab": {
          "base_uri": "https://localhost:8080/"
        },
        "id": "IKaC9PMmhvpQ",
        "outputId": "1bcebcfd-b48d-4a70-b44e-0eafe94aa9a8"
      },
      "execution_count": 6,
      "outputs": [
        {
          "output_type": "stream",
          "name": "stdout",
          "text": [
            "Merged 23 .mmd files into merged.mmd\n"
          ]
        }
      ]
    }
  ]
}